{
 "cells": [
  {
   "cell_type": "markdown",
   "id": "6a3e1941",
   "metadata": {},
   "source": [
    "## Lesson 2: Numbers, Integers, and Floats\n",
    "\n",
    "Source: [Python Tutorial for Beginners 3: Integers and Floats - Working with Numeric Data](https://www.youtube.com/watch?v=khKv-8q7YmY)"
   ]
  },
  {
   "cell_type": "markdown",
   "id": "80070cfa",
   "metadata": {},
   "source": []
  }
 ],
 "metadata": {
  "language_info": {
   "name": "python"
  }
 },
 "nbformat": 4,
 "nbformat_minor": 5
}
