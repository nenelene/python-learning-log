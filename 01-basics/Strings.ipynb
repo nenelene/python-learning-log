{
 "cells": [
  {
   "cell_type": "markdown",
   "id": "57fd5c08",
   "metadata": {},
   "source": [
    " ### Creating a new message and printing"
   ]
  },
  {
   "cell_type": "code",
   "execution_count": null,
   "id": "18703275",
   "metadata": {},
   "outputs": [
    {
     "name": "stdout",
     "output_type": "stream",
     "text": [
      "Hello World\n"
     ]
    }
   ],
   "source": [
    "message = print('Hello World') # Hello world message"
   ]
  },
  {
   "cell_type": "code",
   "execution_count": 3,
   "id": "07c13b1b",
   "metadata": {},
   "outputs": [
    {
     "name": "stdout",
     "output_type": "stream",
     "text": [
      "Hello World\n"
     ]
    }
   ],
   "source": [
    "# instead of printing out the message, print the variable\n",
    "message = 'Hello World'\n",
    "print(message)"
   ]
  },
  {
   "cell_type": "code",
   "execution_count": null,
   "id": "db3eb3b5",
   "metadata": {},
   "outputs": [
    {
     "name": "stdout",
     "output_type": "stream",
     "text": [
      "Sydney's world\n"
     ]
    }
   ],
   "source": [
    "# Make sure to use a backslash when using apostrophes! Or use a double quote.\n",
    "message = 'Sydney\\'s world'\n",
    "print(message)"
   ]
  }
 ],
 "metadata": {
  "kernelspec": {
   "display_name": "Python 3",
   "language": "python",
   "name": "python3"
  },
  "language_info": {
   "codemirror_mode": {
    "name": "ipython",
    "version": 3
   },
   "file_extension": ".py",
   "mimetype": "text/x-python",
   "name": "python",
   "nbconvert_exporter": "python",
   "pygments_lexer": "ipython3",
   "version": "3.13.2"
  }
 },
 "nbformat": 4,
 "nbformat_minor": 5
}
